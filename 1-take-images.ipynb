{
 "cells": [
  {
   "cell_type": "markdown",
   "metadata": {},
   "source": [
    "# Prise des images"
   ]
  },
  {
   "cell_type": "markdown",
   "metadata": {},
   "source": [
    "Importation des modules"
   ]
  },
  {
   "cell_type": "code",
   "execution_count": null,
   "metadata": {},
   "outputs": [],
   "source": [
    "import os\n",
    "import cv2\n",
    "\n",
    "from enum import Enum\n",
    "from functools import reduce"
   ]
  },
  {
   "cell_type": "markdown",
   "metadata": {},
   "source": [
    "Chargement de la configuration"
   ]
  },
  {
   "cell_type": "code",
   "execution_count": null,
   "metadata": {},
   "outputs": [],
   "source": [
    "import json\n",
    "\n",
    "with open('config.json', 'r') as f:\n",
    "   config = json.load(f)\n",
    "\n",
    "DATA_DIR = config['dataset']['dir']\n",
    "DATASET_SIZE = config['dataset']['size']\n",
    "DATASET_DEFINITION = config['dataset']['definition']\n",
    "DATASET_DEFINITION_KEYS = list(DATASET_DEFINITION.keys())"
   ]
  },
  {
   "cell_type": "markdown",
   "metadata": {},
   "source": [
    "Fonction permettant de créer un dossier s'il n'existe pas"
   ]
  },
  {
   "cell_type": "code",
   "execution_count": null,
   "metadata": {},
   "outputs": [],
   "source": [
    "def ensure_dir_exists(path):\n",
    "    os.makedirs(path, exist_ok=True)"
   ]
  },
  {
   "cell_type": "markdown",
   "metadata": {},
   "source": [
    "Fonction permettant de donner le fichier avec le nombre le plus élevé"
   ]
  },
  {
   "cell_type": "code",
   "execution_count": null,
   "metadata": {},
   "outputs": [],
   "source": [
    "def calculate_offset(path):\n",
    "   filenames = os.listdir(path)\n",
    "   if not filenames:\n",
    "      return 0\n",
    "   \n",
    "   file_numbers = [int(os.path.splitext(filename)[0]) for filename in filenames]\n",
    "   return reduce(max, file_numbers) + 1"
   ]
  },
  {
   "cell_type": "markdown",
   "metadata": {},
   "source": [
    "Fonction permettant d'afficher du texte centré"
   ]
  },
  {
   "cell_type": "code",
   "execution_count": null,
   "metadata": {},
   "outputs": [],
   "source": [
    "def show_text_center(frame, text, font = cv2.FONT_HERSHEY_SIMPLEX, font_scale = 1.3, font_thickness = 3, font_color = (25, 135, 25), offset = 130, padding = 15):    \n",
    "    text_size, _ = cv2.getTextSize(text, font, font_scale, font_thickness)\n",
    "    text_position = ((frame.shape[1] - text_size[0]) // 2, frame.shape[0] - text_size[1] - offset)\n",
    "    cv2.rectangle(frame, (text_position[0] - padding, text_position[1] - text_size[1] - padding), \n",
    "             (text_position[0] + text_size[0] + padding, text_position[1] + padding), (240, 240, 240), -1)\n",
    "    cv2.putText(frame, text, text_position, font, font_scale, font_color, font_thickness, cv2.LINE_AA)"
   ]
  },
  {
   "cell_type": "markdown",
   "metadata": {},
   "source": [
    "Attendre que l'utilisateur appuie sur une touche"
   ]
  },
  {
   "cell_type": "code",
   "execution_count": null,
   "metadata": {},
   "outputs": [],
   "source": [
    "class Status(Enum):\n",
    "    CONTINUE = 0\n",
    "    EXIT = 1\n",
    "    SKIP = 2\n",
    "\n",
    "def wait_for_user_input(dataset_name):\n",
    "    while True:\n",
    "        _, frame = cap.read()\n",
    "        show_text_center(frame, f\"Appuyer sur la touche '<ESPACE>' pour enregistrer '{dataset_name}'\")\n",
    "        show_text_center(frame, f\"Appuyer sur la touche 'S' passer au dataset suivant\", offset=60 , font_color=(180, 85, 25))\n",
    "        cv2.imshow('frame', frame)\n",
    "        user_input = cv2.waitKey(25)\n",
    "        if user_input == ord(' '):\n",
    "            return Status.CONTINUE\n",
    "        elif user_input == ord('q'):\n",
    "            return Status.EXIT\n",
    "        elif user_input == ord('s'):\n",
    "            return Status.SKIP"
   ]
  },
  {
   "cell_type": "markdown",
   "metadata": {},
   "source": [
    "Capturer et sauvegarder les différentes images\n",
    "\n",
    "La copie de l'image avant d'ajouter, le texte permet de ne pas afficher le texte lors de la sauvegarde de l'image."
   ]
  },
  {
   "cell_type": "code",
   "execution_count": null,
   "metadata": {},
   "outputs": [],
   "source": [
    "def capture_images(folder, offset):\n",
    "    for counter in range(DATASET_SIZE):\n",
    "        _, frame = cap.read()\n",
    "        clean_frame = frame.copy()\n",
    "        show_text_center(frame, f\"Enregistrement en cours ({counter + 1}/{DATASET_SIZE})\", offset=60 , font_color=(40, 150, 215))\n",
    "        cv2.imshow('frame', frame)\n",
    "        cv2.waitKey(25)\n",
    "        cv2.imwrite(os.path.join(DATA_DIR, str(folder), f\"{counter + offset}.jpg\"), clean_frame)"
   ]
  },
  {
   "cell_type": "markdown",
   "metadata": {},
   "source": [
    "Pour chaque définition du dataset, on capture et on sauvegarde les images"
   ]
  },
  {
   "cell_type": "code",
   "execution_count": null,
   "metadata": {},
   "outputs": [],
   "source": [
    "cap = cv2.VideoCapture(0)\n",
    "\n",
    "ensure_dir_exists(DATA_DIR)\n",
    "for dir_ in DATASET_DEFINITION_KEYS:\n",
    "    ensure_dir_exists(os.path.join(DATA_DIR, str(dir_)))\n",
    "    \n",
    "    offset = calculate_offset(os.path.join(DATA_DIR, str(dir_)))\n",
    "    \n",
    "    user_input = wait_for_user_input(DATASET_DEFINITION[dir_])\n",
    "    if user_input == Status.EXIT:\n",
    "        break\n",
    "    elif user_input == Status.SKIP:\n",
    "        continue\n",
    "    capture_images(dir_, offset)\n",
    "\n",
    "cap.release()\n",
    "cv2.destroyAllWindows()\n",
    "cv2.waitKey(1)"
   ]
  }
 ],
 "metadata": {
  "kernelspec": {
   "display_name": "tf",
   "language": "python",
   "name": "python3"
  },
  "language_info": {
   "codemirror_mode": {
    "name": "ipython",
    "version": 3
   },
   "file_extension": ".py",
   "mimetype": "text/x-python",
   "name": "python",
   "nbconvert_exporter": "python",
   "pygments_lexer": "ipython3",
   "version": "3.11.7"
  }
 },
 "nbformat": 4,
 "nbformat_minor": 2
}
