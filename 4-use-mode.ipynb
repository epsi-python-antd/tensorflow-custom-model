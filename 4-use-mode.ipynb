{
 "cells": [
  {
   "cell_type": "markdown",
   "metadata": {},
   "source": [
    "# Utilisation du modèle"
   ]
  },
  {
   "cell_type": "markdown",
   "metadata": {},
   "source": [
    "Importation des modules"
   ]
  },
  {
   "cell_type": "code",
   "execution_count": null,
   "metadata": {},
   "outputs": [],
   "source": [
    "import pickle\n",
    "\n",
    "import cv2\n",
    "import mediapipe as mp\n",
    "import numpy as np"
   ]
  },
  {
   "cell_type": "markdown",
   "metadata": {},
   "source": [
    "Chargement de la configuration"
   ]
  },
  {
   "cell_type": "code",
   "execution_count": null,
   "metadata": {},
   "outputs": [],
   "source": [
    "import json\n",
    "\n",
    "with open('config.json', 'r') as f:\n",
    "   config = json.load(f)\n",
    "\n",
    "MODEL_FILE = config['model']['file']\n",
    "DATASET_DEFINITION = config['dataset']['definition']\n",
    "DATASET_IMAGES = config['dataset']['images']\n",
    "DATASET_SHOWIMAGES = config['dataset']['show_images']\n",
    "UI_RECTANGLE = config['ui']['rectangle']\n",
    "UI_TEXT = config['ui']['text']"
   ]
  },
  {
   "cell_type": "markdown",
   "metadata": {},
   "source": [
    "Chargement du modèle permettant de détecter les mains pour afficher les points sur les mains"
   ]
  },
  {
   "cell_type": "code",
   "execution_count": null,
   "metadata": {},
   "outputs": [],
   "source": [
    "mp_hands = mp.solutions.hands\n",
    "mp_drawing = mp.solutions.drawing_utils\n",
    "mp_drawing_styles = mp.solutions.drawing_styles\n",
    "\n",
    "hands = mp_hands.Hands(static_image_mode=True, min_detection_confidence=0.6)"
   ]
  },
  {
   "cell_type": "markdown",
   "metadata": {},
   "source": [
    "Chargement du modèle"
   ]
  },
  {
   "cell_type": "code",
   "execution_count": null,
   "metadata": {},
   "outputs": [],
   "source": [
    "model_dict = pickle.load(open(MODEL_FILE, 'rb'))\n",
    "model = model_dict['model']"
   ]
  },
  {
   "cell_type": "markdown",
   "metadata": {},
   "source": [
    "Fonction permettant de récupérer les positions X et Y de chaque point de la main."
   ]
  },
  {
   "cell_type": "code",
   "execution_count": null,
   "metadata": {},
   "outputs": [],
   "source": [
    "def get_hand_data(multi_hand_landmarks):\n",
    "    data = []\n",
    "    for landmark in multi_hand_landmarks:\n",
    "        data.append(landmark.x)\n",
    "        data.append(landmark.y)\n",
    "    return data"
   ]
  },
  {
   "cell_type": "markdown",
   "metadata": {},
   "source": [
    "Fonction permettant d'afficher les points sur les mains"
   ]
  },
  {
   "cell_type": "code",
   "execution_count": null,
   "metadata": {},
   "outputs": [],
   "source": [
    "def display_hands_points(frame, multi_hand_landmarks):\n",
    "    if multi_hand_landmarks:\n",
    "        for hand_landmarks in multi_hand_landmarks:\n",
    "            mp_drawing.draw_landmarks(\n",
    "                frame,\n",
    "                hand_landmarks,\n",
    "                mp_hands.HAND_CONNECTIONS,\n",
    "                mp_drawing_styles.get_default_hand_landmarks_style(),\n",
    "                mp_drawing_styles.get_default_hand_connections_style())"
   ]
  },
  {
   "cell_type": "markdown",
   "metadata": {},
   "source": [
    "Fonction permettant d'afficher l'image"
   ]
  },
  {
   "cell_type": "code",
   "execution_count": null,
   "metadata": {},
   "outputs": [],
   "source": [
    "def display_image(frame, prediction, H, W, x1, y1, x2, y2):\n",
    "    if not DATASET_SHOWIMAGES:\n",
    "        return\n",
    "    \n",
    "    ext_image = cv2.imread(DATASET_IMAGES[prediction])\n",
    "    if ext_image is None:\n",
    "        return\n",
    "    \n",
    "    box_width = x2 - x1\n",
    "    box_height = y2 - y1\n",
    "    \n",
    "    if box_width > 0 and box_height > 0:\n",
    "        resized_image = cv2.resize(ext_image, (box_width, box_height))\n",
    "        \n",
    "    if y1 > 0 and y2 < H and x1 > 0 and x2 < W:\n",
    "        frame[y1:y2, x1:x2] = resized_image"
   ]
  },
  {
   "cell_type": "markdown",
   "metadata": {},
   "source": [
    "Fonction permettant d'afficher la boîte autour de la main"
   ]
  },
  {
   "cell_type": "code",
   "execution_count": null,
   "metadata": {},
   "outputs": [],
   "source": [
    "def display_hands_box(frame, prediction, H, W, data):\n",
    "    x_ = data[::2]\n",
    "    y_ = data[1::2]\n",
    "    \n",
    "    x1 = int(min(x_) * W - UI_RECTANGLE['padding'])\n",
    "    y1 = int(min(y_) * H - UI_RECTANGLE['padding'])\n",
    "    \n",
    "    x2 = int(max(x_) * W + UI_RECTANGLE['padding'])\n",
    "    y2 = int(max(y_) * H + UI_RECTANGLE['padding'])\n",
    "    \n",
    "    title = DATASET_DEFINITION[prediction]\n",
    "    \n",
    "    display_image(frame, prediction, H, W, x1, y1, x2, y2)\n",
    "        \n",
    "    text_size, _ = cv2.getTextSize(title, cv2.FONT_HERSHEY_SIMPLEX, UI_TEXT['font_scale'], UI_TEXT['font_thickness'])\n",
    "    \n",
    "    cv2.rectangle(frame, (x1, y1), (x2, y2), tuple(UI_RECTANGLE['color']), UI_RECTANGLE['thickness'])\n",
    "    cv2.rectangle(frame, (x1 - UI_RECTANGLE['thickness'], y1 - UI_RECTANGLE['thickness'] - UI_TEXT['margin']), (x2 + UI_RECTANGLE['thickness'], y1 - text_size[1] - (UI_TEXT['padding'] * 2) - UI_TEXT['margin']), tuple(UI_RECTANGLE['color']), -1)\n",
    "    \n",
    "    cv2.putText(frame, title, (x1, y1 - UI_TEXT['padding'] - (UI_TEXT['margin'] * 2)), cv2.FONT_HERSHEY_SIMPLEX, UI_TEXT['font_scale'], tuple(UI_TEXT['color']), UI_TEXT['font_thickness'], cv2.LINE_AA)"
   ]
  },
  {
   "cell_type": "markdown",
   "metadata": {},
   "source": [
    "Logique principal :\n",
    "\n",
    "- Afficher les points de chaque main.\n",
    "- Afficher des boites autour de chaque main avec la prédiction de notre modèle."
   ]
  },
  {
   "cell_type": "code",
   "execution_count": null,
   "metadata": {},
   "outputs": [],
   "source": [
    "cap = cv2.VideoCapture(0)\n",
    "\n",
    "while True:    \n",
    "    ret, frame = cap.read()\n",
    "    \n",
    "    frame_rgb = cv2.cvtColor(frame, cv2.COLOR_BGR2RGB)\n",
    "\n",
    "    results = hands.process(frame_rgb)\n",
    "    \n",
    "    display_hands_points(frame, results.multi_hand_landmarks)\n",
    "    \n",
    "    if results.multi_hand_landmarks:\n",
    "        \n",
    "        H, W, _ = frame.shape\n",
    "        for hand_landmarks in results.multi_hand_landmarks:\n",
    "            data = get_hand_data(hand_landmarks.landmark)\n",
    "            \n",
    "            prediction = model.predict([np.asarray(data)])\n",
    "            prediction_name = DATASET_DEFINITION[prediction[0]]\n",
    "            \n",
    "            display_hands_box(frame, prediction[0], H, W, data)\n",
    "    \n",
    "    cv2.imshow('frame', frame)\n",
    "    \n",
    "    if cv2.waitKey(1) & 0xFF == ord('q'):\n",
    "        break\n",
    "\n",
    "cap.release()\n",
    "cv2.destroyAllWindows()\n",
    "cv2.waitKey(1)"
   ]
  }
 ],
 "metadata": {
  "kernelspec": {
   "display_name": "tf",
   "language": "python",
   "name": "python3"
  },
  "language_info": {
   "codemirror_mode": {
    "name": "ipython",
    "version": 3
   },
   "file_extension": ".py",
   "mimetype": "text/x-python",
   "name": "python",
   "nbconvert_exporter": "python",
   "pygments_lexer": "ipython3",
   "version": "3.11.7"
  }
 },
 "nbformat": 4,
 "nbformat_minor": 2
}
