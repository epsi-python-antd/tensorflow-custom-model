{
 "cells": [
  {
   "cell_type": "markdown",
   "metadata": {},
   "source": [
    "# Création du dataset"
   ]
  },
  {
   "cell_type": "markdown",
   "metadata": {},
   "source": [
    "Importation des modules"
   ]
  },
  {
   "cell_type": "code",
   "execution_count": null,
   "metadata": {},
   "outputs": [],
   "source": [
    "import os\n",
    "import pickle\n",
    "\n",
    "import mediapipe as mp\n",
    "import cv2\n",
    "import matplotlib.pyplot as plt"
   ]
  },
  {
   "cell_type": "markdown",
   "metadata": {},
   "source": [
    "Chargement de la configuration"
   ]
  },
  {
   "cell_type": "code",
   "execution_count": null,
   "metadata": {},
   "outputs": [],
   "source": [
    "import json\n",
    "\n",
    "with open('config.json', 'r') as f:\n",
    "   config = json.load(f)\n",
    "\n",
    "DATA_DIR = config['dataset']['dir']\n",
    "DATASET_FILE = config['dataset']['file']\n",
    "DATASET_DEFINITION = config['dataset']['definition']\n",
    "DATASET_DEFINITION_KEYS = list(DATASET_DEFINITION.keys())"
   ]
  },
  {
   "cell_type": "markdown",
   "metadata": {},
   "source": [
    "Chargement du modèle 'Hand Pose Detection' permettant de détecter les mains"
   ]
  },
  {
   "cell_type": "code",
   "execution_count": null,
   "metadata": {},
   "outputs": [],
   "source": [
    "mp_hands = mp.solutions.hands\n",
    "\n",
    "hands = mp_hands.Hands(static_image_mode=True, min_detection_confidence=0.3)"
   ]
  },
  {
   "cell_type": "markdown",
   "metadata": {},
   "source": [
    "Fonction permettant de charger l'image et de convertir les couleurs BGR en RGB"
   ]
  },
  {
   "cell_type": "code",
   "execution_count": null,
   "metadata": {},
   "outputs": [],
   "source": [
    "def load_image(path):\n",
    "    return cv2.cvtColor(cv2.imread(path), cv2.COLOR_BGR2RGB)"
   ]
  },
  {
   "cell_type": "markdown",
   "metadata": {},
   "source": [
    "Fonction permettant de récupérer les positions X et Y de chaque point de la main."
   ]
  },
  {
   "cell_type": "code",
   "execution_count": null,
   "metadata": {},
   "outputs": [],
   "source": [
    "def get_hand_data(multi_hand_landmarks):\n",
    "    data = []\n",
    "    for hand_landmarks in multi_hand_landmarks:\n",
    "        for landmark in hand_landmarks.landmark:\n",
    "           data.append(landmark.x)\n",
    "           data.append(landmark.y)\n",
    "    return data"
   ]
  },
  {
   "cell_type": "markdown",
   "metadata": {},
   "source": [
    "Sauvegarde du dataset qui contient les données des mains dans un fichier"
   ]
  },
  {
   "cell_type": "code",
   "execution_count": null,
   "metadata": {},
   "outputs": [],
   "source": [
    "data = []\n",
    "labels = []\n",
    "for dir_ in DATASET_DEFINITION_KEYS:\n",
    "    for img_path in os.listdir(os.path.join(DATA_DIR, dir_)):\n",
    "        \n",
    "        img_rgb = load_image(os.path.join(DATA_DIR, dir_, img_path))\n",
    "\n",
    "        results = hands.process(img_rgb)\n",
    "        if results.multi_hand_landmarks:\n",
    "                    \n",
    "            hand_data = get_hand_data(results.multi_hand_landmarks)\n",
    "                        \n",
    "            if len(hand_data) == 42:\n",
    "                data.append(hand_data)\n",
    "                labels.append(dir_)\n",
    "\n",
    "with open(DATASET_FILE, 'wb') as f:\n",
    "   pickle.dump({'data': data, 'labels': labels}, f)"
   ]
  }
 ],
 "metadata": {
  "kernelspec": {
   "display_name": "tf",
   "language": "python",
   "name": "python3"
  },
  "language_info": {
   "codemirror_mode": {
    "name": "ipython",
    "version": 3
   },
   "file_extension": ".py",
   "mimetype": "text/x-python",
   "name": "python",
   "nbconvert_exporter": "python",
   "pygments_lexer": "ipython3",
   "version": "3.11.7"
  }
 },
 "nbformat": 4,
 "nbformat_minor": 2
}
